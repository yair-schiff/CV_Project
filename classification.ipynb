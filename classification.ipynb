{
 "cells": [
  {
   "cell_type": "markdown",
   "metadata": {},
   "source": [
    "# DDSM classification"
   ]
  },
  {
   "cell_type": "code",
   "execution_count": null,
   "metadata": {},
   "outputs": [],
   "source": [
    "from __future__ import print_function\n",
    "\n",
    "import os\n",
    "import torch\n",
    "import torch.optim as optim\n",
    "from torch.autograd import Variable\n",
    "\n",
    "# Internal dependency\n",
    "import classification as ddsm_classify\n",
    "from classification import DDSMDataset\n",
    "from classification import MyResNet"
   ]
  },
  {
   "cell_type": "markdown",
   "metadata": {},
   "source": [
    "## Set up training variables"
   ]
  },
  {
   "cell_type": "code",
   "execution_count": null,
   "metadata": {},
   "outputs": [],
   "source": [
    "# Change these depending on what machine this notebook is running on\n",
    "# data_dir = \"/Users/yairschiff/Development/PycharmProjects/ComputerVision/Project/data/\"\n",
    "data_dir = \"/scratch/jtb470/DDSM/data\"\n",
    "# model_res_dir = \"/Users/yairschiff/Development/PycharmProjects/ComputerVision/Project/model_results_stage2/\"\n",
    "model_res_dir = \"/scratch/yzs208/CV_Project/model_results_v3_s2\"\n",
    "batch_size = 2\n",
    "epochs = 20\n",
    "lr = 0.01\n",
    "# checkpoint = \"/Users/yairschiff/Development/PycharmProjects/ComputerVision/Project/model_results/model_results20.pth\"\n",
    "checkpoint = \"/scratch/yzs208/CV_Project/model_results_v2/model_results20.pth\"\n",
    "train_heads = checkpoint == \"\"\n",
    "log_interval = 50\n",
    "torch.manual_seed(1)"
   ]
  },
  {
   "cell_type": "markdown",
   "metadata": {},
   "source": [
    "## Set device"
   ]
  },
  {
   "cell_type": "code",
   "execution_count": null,
   "metadata": {},
   "outputs": [],
   "source": [
    "device = torch.device(\"cuda:0\" if torch.cuda.is_available() else \"cpu\")\n",
    "if device != torch.device(\"cpu\"):\n",
    "    torch.set_default_tensor_type('torch.cuda.FloatTensor')\n",
    "print(\"Device: {}\".format(device))"
   ]
  },
  {
   "cell_type": "markdown",
   "metadata": {},
   "source": [
    "## Load data"
   ]
  },
  {
   "cell_type": "code",
   "execution_count": null,
   "metadata": {},
   "outputs": [],
   "source": [
    "train_loader = torch.utils.data.DataLoader(DDSMDataset(data_dir, dataset=\"train\", exclude_brightened=True),\n",
    "                                           batch_size=batch_size, shuffle=True, num_workers=1)\n",
    "val_loader = torch.utils.data.DataLoader(DDSMDataset(data_dir, dataset=\"val\", exclude_brightened=True),\n",
    "                                         batch_size=batch_size, shuffle=True, num_workers=1)"
   ]
  },
  {
   "cell_type": "markdown",
   "metadata": {},
   "source": [
    "## Load model"
   ]
  },
  {
   "cell_type": "code",
   "execution_count": null,
   "metadata": {},
   "outputs": [],
   "source": [
    "model = MyResNet(\"resnet18\", 3, only_train_heads=train_heads)\n",
    "if checkpoint != \"\":\n",
    "    state_dict = torch.load(checkpoint) if torch.cuda.is_available() else torch.load(checkpoint, map_location='cpu')\n",
    "    model.load_state_dict(state_dict)\n",
    "model = model.to(device)\n",
    "optimizer = optim.Adam(model.parameters(), lr=lr)"
   ]
  },
  {
   "cell_type": "markdown",
   "metadata": {},
   "source": [
    "## Run training and validation"
   ]
  },
  {
   "cell_type": "code",
   "execution_count": null,
   "metadata": {},
   "outputs": [],
   "source": [
    "if not os.path.isdir(model_res_dir):\n",
    "    print(model_res_dir + \" not found: making directory for results\")\n",
    "    os.mkdir(model_res_dir)\n",
    "for epoch in range(1, epochs + 1):\n",
    "    ddsm_classify.train(model, train_loader, optimizer, device, epoch, log_interval)\n",
    "    ddsm_classify.validation(model, val_loader, device)\n",
    "    model_file = os.path.join(model_res_dir, \"model_stage\" +\n",
    "                              str(1 if train_heads else 2) + \"_\" + str(epoch) + \".pth\")\n",
    "    torch.save(model.state_dict(), model_file)\n",
    "    print(\"\\nSaved model to \" + model_file + \".\")"
   ]
  },
  {
   "cell_type": "code",
   "execution_count": null,
   "metadata": {},
   "outputs": [],
   "source": []
  }
 ],
 "metadata": {
  "kernelspec": {
   "display_name": "Python 3",
   "language": "python",
   "name": "python3"
  },
  "language_info": {
   "codemirror_mode": {
    "name": "ipython",
    "version": 3
   },
   "file_extension": ".py",
   "mimetype": "text/x-python",
   "name": "python",
   "nbconvert_exporter": "python",
   "pygments_lexer": "ipython3",
   "version": "3.7.0"
  }
 },
 "nbformat": 4,
 "nbformat_minor": 2
}
