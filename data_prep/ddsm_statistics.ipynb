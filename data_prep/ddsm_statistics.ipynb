{
 "cells": [
  {
   "cell_type": "code",
   "execution_count": 1,
   "metadata": {},
   "outputs": [],
   "source": [
    "import json\n",
    "import pdb"
   ]
  },
  {
   "cell_type": "code",
   "execution_count": 2,
   "metadata": {},
   "outputs": [],
   "source": [
    "train_json_file = \"/Users/yairschiff/Development/PycharmProjects/ComputerVision/Project/data/annotations/instances_train.json\"\n",
    "val_json_file = \"/Users/yairschiff/Development/PycharmProjects/ComputerVision/Project/data/annotations/instances_val.json\""
   ]
  },
  {
   "cell_type": "code",
   "execution_count": 5,
   "metadata": {},
   "outputs": [],
   "source": [
    "with open(train_json_file, \"r\") as train_json:\n",
    "    train_dict = json.loads(train_json.read())"
   ]
  },
  {
   "cell_type": "code",
   "execution_count": 16,
   "metadata": {},
   "outputs": [
    {
     "name": "stdout",
     "output_type": "stream",
     "text": [
      "Training data set:\n",
      "\tTotal images: 9376\n",
      "\tTotal brightened: 2717\n",
      "\tTotal normals: 848\n",
      "\tTotal benigns: 3134\n",
      "\tTotal cancers: 2677\n",
      "\tTotal cases used: 6659\n"
     ]
    }
   ],
   "source": [
    "total_count = 0\n",
    "brightened_count = 0\n",
    "normal_count = 0\n",
    "benign_count = 0\n",
    "cancer_count = 0\n",
    "for image in train_dict[\"images\"]:\n",
    "    total_count += 1\n",
    "    if image[\"brightened\"]:\n",
    "        brightened_count += 1\n",
    "    else:\n",
    "        if \"normal\" in image[\"case_name\"]:\n",
    "            normal_count += 1\n",
    "        elif \"benign\" in image[\"case_name\"]:\n",
    "            benign_count += 1\n",
    "        elif \"cancers\" in image[\"case_name\"]:\n",
    "            cancer_count += 1\n",
    "        else:\n",
    "            print(\"What happened? {}\".format(image[\"case_name\"]))\n",
    "            break\n",
    "print(\"Training data set:\")\n",
    "print(\"\\tTotal images: {}\".format(total_count))\n",
    "print(\"\\tTotal brightened: {}\".format(brightened_count))\n",
    "print(\"\\tTotal normals: {}\".format(normal_count))\n",
    "print(\"\\tTotal benigns: {}\".format(benign_count))\n",
    "print(\"\\tTotal cancers: {}\".format(cancer_count))\n",
    "print(\"\\tTotal cases used: {}\".format(normal_count + benign_count + cancer_count))"
   ]
  },
  {
   "cell_type": "code",
   "execution_count": 11,
   "metadata": {},
   "outputs": [],
   "source": [
    "with open(val_json_file, \"r\") as val_json:\n",
    "    val_dict = json.loads(val_json.read())"
   ]
  },
  {
   "cell_type": "code",
   "execution_count": 13,
   "metadata": {},
   "outputs": [
    {
     "name": "stdout",
     "output_type": "stream",
     "text": [
      "Validation data set:\n",
      "\tTotal images: 1040\n",
      "\tTotal brightened: 302\n",
      "\tTotal normals: 98\n",
      "\tTotal benigns: 351\n",
      "\tTotal cancers: 289\n",
      "\tTotal cases used: 738\n"
     ]
    }
   ],
   "source": [
    "total_count = 0\n",
    "brightened_count = 0\n",
    "normal_count = 0\n",
    "benign_count = 0\n",
    "cancer_count = 0\n",
    "for image in val_dict[\"images\"]:\n",
    "    total_count += 1\n",
    "    if image[\"brightened\"]:\n",
    "        brightened_count += 1\n",
    "    else:\n",
    "        if \"normal\" in image[\"case_name\"]:\n",
    "            normal_count += 1\n",
    "        elif \"benign\" in image[\"case_name\"]:\n",
    "            benign_count += 1\n",
    "        elif \"cancers\" in image[\"case_name\"]:\n",
    "            cancer_count += 1\n",
    "        else:\n",
    "            print(\"What happened? {}\".format(image[\"case_name\"]))\n",
    "            break\n",
    "print(\"Validation data set:\")\n",
    "print(\"\\tTotal images: {}\".format(total_count))\n",
    "print(\"\\tTotal brightened: {}\".format(brightened_count))\n",
    "print(\"\\tTotal normals: {}\".format(normal_count))\n",
    "print(\"\\tTotal benigns: {}\".format(benign_count))\n",
    "print(\"\\tTotal cancers: {}\".format(cancer_count))\n",
    "print(\"\\tTotal cases used: {}\".format(normal_count + benign_count + cancer_count))"
   ]
  },
  {
   "cell_type": "code",
   "execution_count": null,
   "metadata": {},
   "outputs": [],
   "source": []
  }
 ],
 "metadata": {
  "kernelspec": {
   "display_name": "Python 3",
   "language": "python",
   "name": "python3"
  },
  "language_info": {
   "codemirror_mode": {
    "name": "ipython",
    "version": 3
   },
   "file_extension": ".py",
   "mimetype": "text/x-python",
   "name": "python",
   "nbconvert_exporter": "python",
   "pygments_lexer": "ipython3",
   "version": "3.7.0"
  }
 },
 "nbformat": 4,
 "nbformat_minor": 2
}
